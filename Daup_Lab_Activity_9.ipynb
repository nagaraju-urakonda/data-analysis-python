{
  "nbformat": 4,
  "nbformat_minor": 0,
  "metadata": {
    "colab": {
      "provenance": [],
      "include_colab_link": true
    },
    "kernelspec": {
      "name": "python3",
      "display_name": "Python 3"
    },
    "language_info": {
      "name": "python"
    }
  },
  "cells": [
    {
      "cell_type": "markdown",
      "metadata": {
        "id": "view-in-github",
        "colab_type": "text"
      },
      "source": [
        "<a href=\"https://colab.research.google.com/github/nagaraju-urakonda/data-analysis-python/blob/main/Daup_Lab_Activity_9.ipynb\" target=\"_parent\"><img src=\"https://colab.research.google.com/assets/colab-badge.svg\" alt=\"Open In Colab\"/></a>"
      ]
    },
    {
      "cell_type": "code",
      "execution_count": null,
      "metadata": {
        "colab": {
          "base_uri": "https://localhost:8080/"
        },
        "id": "y2Z_-B1EK1Rl",
        "outputId": "8f200a39-21e5-4dd8-df60-5e57d0ce49ad"
      },
      "outputs": [
        {
          "output_type": "stream",
          "name": "stdout",
          "text": [
            "Downloading from https://www.kaggle.com/api/v1/datasets/download/hussameldinanwer/mimic-iii?dataset_version_number=1...\n"
          ]
        },
        {
          "output_type": "stream",
          "name": "stderr",
          "text": [
            "100%|██████████| 100M/100M [00:04<00:00, 25.4MB/s] "
          ]
        },
        {
          "output_type": "stream",
          "name": "stdout",
          "text": [
            "Extracting files...\n"
          ]
        },
        {
          "output_type": "stream",
          "name": "stderr",
          "text": [
            "\n"
          ]
        },
        {
          "output_type": "stream",
          "name": "stdout",
          "text": [
            "Path to dataset files: /root/.cache/kagglehub/datasets/hussameldinanwer/mimic-iii/versions/1\n"
          ]
        }
      ],
      "source": [
        "import kagglehub\n",
        "\n",
        "# Download latest version\n",
        "path = kagglehub.dataset_download(\"hussameldinanwer/mimic-iii\")\n",
        "\n",
        "print(\"Path to dataset files:\", path)"
      ]
    },
    {
      "cell_type": "code",
      "source": [
        "import numpy as np\n",
        "import pandas as pd\n",
        "import matplotlib.pyplot as plt\n",
        "import seaborn as sns"
      ],
      "metadata": {
        "id": "a9DuyTdBK9tq"
      },
      "execution_count": null,
      "outputs": []
    },
    {
      "cell_type": "code",
      "source": [
        "df = pd.read_csv(f\"{path}/PRESCRIPTIONS.csv\")"
      ],
      "metadata": {
        "colab": {
          "base_uri": "https://localhost:8080/"
        },
        "id": "u6OEd9HhLOLy",
        "outputId": "5c22b198-ba4c-4e48-f886-300558097a70"
      },
      "execution_count": null,
      "outputs": [
        {
          "output_type": "stream",
          "name": "stderr",
          "text": [
            "<ipython-input-3-214f219d9068>:1: DtypeWarning: Columns (11) have mixed types. Specify dtype option on import or set low_memory=False.\n",
            "  df = pd.read_csv(f\"{path}/PRESCRIPTIONS.csv\")\n"
          ]
        }
      ]
    },
    {
      "cell_type": "code",
      "source": [
        "df"
      ],
      "metadata": {
        "colab": {
          "base_uri": "https://localhost:8080/",
          "height": 790
        },
        "id": "BsM0ddhZLZe6",
        "outputId": "39921691-6cf3-4034-a07e-b17848aaca69"
      },
      "execution_count": null,
      "outputs": [
        {
          "output_type": "execute_result",
          "data": {
            "text/plain": [
              "          ROW_ID  SUBJECT_ID  HADM_ID  ICUSTAY_ID            STARTDATE  \\\n",
              "0        2214776           6   107064         NaN  2175-06-11 00:00:00   \n",
              "1        2214775           6   107064         NaN  2175-06-11 00:00:00   \n",
              "2        2215524           6   107064         NaN  2175-06-11 00:00:00   \n",
              "3        2216265           6   107064         NaN  2175-06-11 00:00:00   \n",
              "4        2214773           6   107064         NaN  2175-06-11 00:00:00   \n",
              "...          ...         ...      ...         ...                  ...   \n",
              "4156445  3996662       98887   121032    238144.0  2144-09-06 00:00:00   \n",
              "4156446  3996070       98887   121032    238144.0  2144-09-06 00:00:00   \n",
              "4156447  3996063       98887   121032    238144.0  2144-09-06 00:00:00   \n",
              "4156448  3996062       98887   121032    238144.0  2144-09-06 00:00:00   \n",
              "4156449  3996061       98887   121032    238144.0  2144-09-06 00:00:00   \n",
              "\n",
              "                     ENDDATE DRUG_TYPE                      DRUG  \\\n",
              "0        2175-06-12 00:00:00      MAIN                Tacrolimus   \n",
              "1        2175-06-12 00:00:00      MAIN                  Warfarin   \n",
              "2        2175-06-12 00:00:00      MAIN            Heparin Sodium   \n",
              "3        2175-06-12 00:00:00      BASE                       D5W   \n",
              "4        2175-06-12 00:00:00      MAIN                Furosemide   \n",
              "...                      ...       ...                       ...   \n",
              "4156445  2144-09-06 00:00:00      MAIN                PredniSONE   \n",
              "4156446  2144-09-06 00:00:00      MAIN   Ipratropium Bromide Neb   \n",
              "4156447  2144-09-06 00:00:00      MAIN  HYDROmorphone (Dilaudid)   \n",
              "4156448  2144-09-06 00:00:00      MAIN           Docusate Sodium   \n",
              "4156449  2144-09-06 00:00:00      MAIN                     Senna   \n",
              "\n",
              "                    DRUG_NAME_POE        DRUG_NAME_GENERIC FORMULARY_DRUG_CD  \\\n",
              "0                      Tacrolimus               Tacrolimus             TACR1   \n",
              "1                        Warfarin                 Warfarin             WARF5   \n",
              "2                             NaN                      NaN        HEPAPREMIX   \n",
              "3                             NaN                      NaN           HEPBASE   \n",
              "4                      Furosemide               Furosemide            FURO20   \n",
              "...                           ...                      ...               ...   \n",
              "4156445                PredniSONE               PredniSONE            PRED20   \n",
              "4156446   Ipratropium Bromide Neb  Ipratropium Bromide Neb            IPRA2H   \n",
              "4156447  HYDROmorphone (Dilaudid)            HYDROmorphone      HYDR20/100NS   \n",
              "4156448           Docusate Sodium          Docusate Sodium           DOCU100   \n",
              "4156449                     Senna                    Senna           SENN187   \n",
              "\n",
              "            GSN           NDC              PROD_STRENGTH DOSE_VAL_RX  \\\n",
              "0        021796  4.690617e+08                1mg Capsule           2   \n",
              "1        006562  5.601728e+07                 5mg Tablet           5   \n",
              "2        006522  3.380550e+08     25,000 unit Premix Bag      25,000   \n",
              "3           NaN  0.000000e+00               HEPARIN BASE         250   \n",
              "4        008208  5.482972e+07                20mg Tablet          20   \n",
              "...         ...           ...                        ...         ...   \n",
              "4156445  006751  5.400182e+07               20 mg Tablet          40   \n",
              "4156446  021700  4.879801e+08                 2.5mL Vial           1   \n",
              "4156447  048078  6.155302e+10  20 mg / 100 mL Premix Bag        0.12   \n",
              "4156448  003009  9.042245e+08              100mg Capsule         100   \n",
              "4156449  019964  9.045166e+08                   1 Tablet           1   \n",
              "\n",
              "        DOSE_UNIT_RX FORM_VAL_DISP FORM_UNIT_DISP  ROUTE  \n",
              "0                 mg             2            CAP     PO  \n",
              "1                 mg             1            TAB     PO  \n",
              "2               UNIT             1            BAG     IV  \n",
              "3                 ml           250             ml     IV  \n",
              "4                 mg             1            TAB     PO  \n",
              "...              ...           ...            ...    ...  \n",
              "4156445           mg             2            TAB  PO/NG  \n",
              "4156446          NEB             1           VIAL     IH  \n",
              "4156447           mg          0.01            BAG  IVPCA  \n",
              "4156448           mg             1            CAP     PO  \n",
              "4156449          TAB             1            TAB  PO/NG  \n",
              "\n",
              "[4156450 rows x 19 columns]"
            ],
            "text/html": [
              "\n",
              "  <div id=\"df-8be603c4-efbb-4dbd-b811-9adaac8fc4dd\" class=\"colab-df-container\">\n",
              "    <div>\n",
              "<style scoped>\n",
              "    .dataframe tbody tr th:only-of-type {\n",
              "        vertical-align: middle;\n",
              "    }\n",
              "\n",
              "    .dataframe tbody tr th {\n",
              "        vertical-align: top;\n",
              "    }\n",
              "\n",
              "    .dataframe thead th {\n",
              "        text-align: right;\n",
              "    }\n",
              "</style>\n",
              "<table border=\"1\" class=\"dataframe\">\n",
              "  <thead>\n",
              "    <tr style=\"text-align: right;\">\n",
              "      <th></th>\n",
              "      <th>ROW_ID</th>\n",
              "      <th>SUBJECT_ID</th>\n",
              "      <th>HADM_ID</th>\n",
              "      <th>ICUSTAY_ID</th>\n",
              "      <th>STARTDATE</th>\n",
              "      <th>ENDDATE</th>\n",
              "      <th>DRUG_TYPE</th>\n",
              "      <th>DRUG</th>\n",
              "      <th>DRUG_NAME_POE</th>\n",
              "      <th>DRUG_NAME_GENERIC</th>\n",
              "      <th>FORMULARY_DRUG_CD</th>\n",
              "      <th>GSN</th>\n",
              "      <th>NDC</th>\n",
              "      <th>PROD_STRENGTH</th>\n",
              "      <th>DOSE_VAL_RX</th>\n",
              "      <th>DOSE_UNIT_RX</th>\n",
              "      <th>FORM_VAL_DISP</th>\n",
              "      <th>FORM_UNIT_DISP</th>\n",
              "      <th>ROUTE</th>\n",
              "    </tr>\n",
              "  </thead>\n",
              "  <tbody>\n",
              "    <tr>\n",
              "      <th>0</th>\n",
              "      <td>2214776</td>\n",
              "      <td>6</td>\n",
              "      <td>107064</td>\n",
              "      <td>NaN</td>\n",
              "      <td>2175-06-11 00:00:00</td>\n",
              "      <td>2175-06-12 00:00:00</td>\n",
              "      <td>MAIN</td>\n",
              "      <td>Tacrolimus</td>\n",
              "      <td>Tacrolimus</td>\n",
              "      <td>Tacrolimus</td>\n",
              "      <td>TACR1</td>\n",
              "      <td>021796</td>\n",
              "      <td>4.690617e+08</td>\n",
              "      <td>1mg Capsule</td>\n",
              "      <td>2</td>\n",
              "      <td>mg</td>\n",
              "      <td>2</td>\n",
              "      <td>CAP</td>\n",
              "      <td>PO</td>\n",
              "    </tr>\n",
              "    <tr>\n",
              "      <th>1</th>\n",
              "      <td>2214775</td>\n",
              "      <td>6</td>\n",
              "      <td>107064</td>\n",
              "      <td>NaN</td>\n",
              "      <td>2175-06-11 00:00:00</td>\n",
              "      <td>2175-06-12 00:00:00</td>\n",
              "      <td>MAIN</td>\n",
              "      <td>Warfarin</td>\n",
              "      <td>Warfarin</td>\n",
              "      <td>Warfarin</td>\n",
              "      <td>WARF5</td>\n",
              "      <td>006562</td>\n",
              "      <td>5.601728e+07</td>\n",
              "      <td>5mg Tablet</td>\n",
              "      <td>5</td>\n",
              "      <td>mg</td>\n",
              "      <td>1</td>\n",
              "      <td>TAB</td>\n",
              "      <td>PO</td>\n",
              "    </tr>\n",
              "    <tr>\n",
              "      <th>2</th>\n",
              "      <td>2215524</td>\n",
              "      <td>6</td>\n",
              "      <td>107064</td>\n",
              "      <td>NaN</td>\n",
              "      <td>2175-06-11 00:00:00</td>\n",
              "      <td>2175-06-12 00:00:00</td>\n",
              "      <td>MAIN</td>\n",
              "      <td>Heparin Sodium</td>\n",
              "      <td>NaN</td>\n",
              "      <td>NaN</td>\n",
              "      <td>HEPAPREMIX</td>\n",
              "      <td>006522</td>\n",
              "      <td>3.380550e+08</td>\n",
              "      <td>25,000 unit Premix Bag</td>\n",
              "      <td>25,000</td>\n",
              "      <td>UNIT</td>\n",
              "      <td>1</td>\n",
              "      <td>BAG</td>\n",
              "      <td>IV</td>\n",
              "    </tr>\n",
              "    <tr>\n",
              "      <th>3</th>\n",
              "      <td>2216265</td>\n",
              "      <td>6</td>\n",
              "      <td>107064</td>\n",
              "      <td>NaN</td>\n",
              "      <td>2175-06-11 00:00:00</td>\n",
              "      <td>2175-06-12 00:00:00</td>\n",
              "      <td>BASE</td>\n",
              "      <td>D5W</td>\n",
              "      <td>NaN</td>\n",
              "      <td>NaN</td>\n",
              "      <td>HEPBASE</td>\n",
              "      <td>NaN</td>\n",
              "      <td>0.000000e+00</td>\n",
              "      <td>HEPARIN BASE</td>\n",
              "      <td>250</td>\n",
              "      <td>ml</td>\n",
              "      <td>250</td>\n",
              "      <td>ml</td>\n",
              "      <td>IV</td>\n",
              "    </tr>\n",
              "    <tr>\n",
              "      <th>4</th>\n",
              "      <td>2214773</td>\n",
              "      <td>6</td>\n",
              "      <td>107064</td>\n",
              "      <td>NaN</td>\n",
              "      <td>2175-06-11 00:00:00</td>\n",
              "      <td>2175-06-12 00:00:00</td>\n",
              "      <td>MAIN</td>\n",
              "      <td>Furosemide</td>\n",
              "      <td>Furosemide</td>\n",
              "      <td>Furosemide</td>\n",
              "      <td>FURO20</td>\n",
              "      <td>008208</td>\n",
              "      <td>5.482972e+07</td>\n",
              "      <td>20mg Tablet</td>\n",
              "      <td>20</td>\n",
              "      <td>mg</td>\n",
              "      <td>1</td>\n",
              "      <td>TAB</td>\n",
              "      <td>PO</td>\n",
              "    </tr>\n",
              "    <tr>\n",
              "      <th>...</th>\n",
              "      <td>...</td>\n",
              "      <td>...</td>\n",
              "      <td>...</td>\n",
              "      <td>...</td>\n",
              "      <td>...</td>\n",
              "      <td>...</td>\n",
              "      <td>...</td>\n",
              "      <td>...</td>\n",
              "      <td>...</td>\n",
              "      <td>...</td>\n",
              "      <td>...</td>\n",
              "      <td>...</td>\n",
              "      <td>...</td>\n",
              "      <td>...</td>\n",
              "      <td>...</td>\n",
              "      <td>...</td>\n",
              "      <td>...</td>\n",
              "      <td>...</td>\n",
              "      <td>...</td>\n",
              "    </tr>\n",
              "    <tr>\n",
              "      <th>4156445</th>\n",
              "      <td>3996662</td>\n",
              "      <td>98887</td>\n",
              "      <td>121032</td>\n",
              "      <td>238144.0</td>\n",
              "      <td>2144-09-06 00:00:00</td>\n",
              "      <td>2144-09-06 00:00:00</td>\n",
              "      <td>MAIN</td>\n",
              "      <td>PredniSONE</td>\n",
              "      <td>PredniSONE</td>\n",
              "      <td>PredniSONE</td>\n",
              "      <td>PRED20</td>\n",
              "      <td>006751</td>\n",
              "      <td>5.400182e+07</td>\n",
              "      <td>20 mg Tablet</td>\n",
              "      <td>40</td>\n",
              "      <td>mg</td>\n",
              "      <td>2</td>\n",
              "      <td>TAB</td>\n",
              "      <td>PO/NG</td>\n",
              "    </tr>\n",
              "    <tr>\n",
              "      <th>4156446</th>\n",
              "      <td>3996070</td>\n",
              "      <td>98887</td>\n",
              "      <td>121032</td>\n",
              "      <td>238144.0</td>\n",
              "      <td>2144-09-06 00:00:00</td>\n",
              "      <td>2144-09-06 00:00:00</td>\n",
              "      <td>MAIN</td>\n",
              "      <td>Ipratropium Bromide Neb</td>\n",
              "      <td>Ipratropium Bromide Neb</td>\n",
              "      <td>Ipratropium Bromide Neb</td>\n",
              "      <td>IPRA2H</td>\n",
              "      <td>021700</td>\n",
              "      <td>4.879801e+08</td>\n",
              "      <td>2.5mL Vial</td>\n",
              "      <td>1</td>\n",
              "      <td>NEB</td>\n",
              "      <td>1</td>\n",
              "      <td>VIAL</td>\n",
              "      <td>IH</td>\n",
              "    </tr>\n",
              "    <tr>\n",
              "      <th>4156447</th>\n",
              "      <td>3996063</td>\n",
              "      <td>98887</td>\n",
              "      <td>121032</td>\n",
              "      <td>238144.0</td>\n",
              "      <td>2144-09-06 00:00:00</td>\n",
              "      <td>2144-09-06 00:00:00</td>\n",
              "      <td>MAIN</td>\n",
              "      <td>HYDROmorphone (Dilaudid)</td>\n",
              "      <td>HYDROmorphone (Dilaudid)</td>\n",
              "      <td>HYDROmorphone</td>\n",
              "      <td>HYDR20/100NS</td>\n",
              "      <td>048078</td>\n",
              "      <td>6.155302e+10</td>\n",
              "      <td>20 mg / 100 mL Premix Bag</td>\n",
              "      <td>0.12</td>\n",
              "      <td>mg</td>\n",
              "      <td>0.01</td>\n",
              "      <td>BAG</td>\n",
              "      <td>IVPCA</td>\n",
              "    </tr>\n",
              "    <tr>\n",
              "      <th>4156448</th>\n",
              "      <td>3996062</td>\n",
              "      <td>98887</td>\n",
              "      <td>121032</td>\n",
              "      <td>238144.0</td>\n",
              "      <td>2144-09-06 00:00:00</td>\n",
              "      <td>2144-09-06 00:00:00</td>\n",
              "      <td>MAIN</td>\n",
              "      <td>Docusate Sodium</td>\n",
              "      <td>Docusate Sodium</td>\n",
              "      <td>Docusate Sodium</td>\n",
              "      <td>DOCU100</td>\n",
              "      <td>003009</td>\n",
              "      <td>9.042245e+08</td>\n",
              "      <td>100mg Capsule</td>\n",
              "      <td>100</td>\n",
              "      <td>mg</td>\n",
              "      <td>1</td>\n",
              "      <td>CAP</td>\n",
              "      <td>PO</td>\n",
              "    </tr>\n",
              "    <tr>\n",
              "      <th>4156449</th>\n",
              "      <td>3996061</td>\n",
              "      <td>98887</td>\n",
              "      <td>121032</td>\n",
              "      <td>238144.0</td>\n",
              "      <td>2144-09-06 00:00:00</td>\n",
              "      <td>2144-09-06 00:00:00</td>\n",
              "      <td>MAIN</td>\n",
              "      <td>Senna</td>\n",
              "      <td>Senna</td>\n",
              "      <td>Senna</td>\n",
              "      <td>SENN187</td>\n",
              "      <td>019964</td>\n",
              "      <td>9.045166e+08</td>\n",
              "      <td>1 Tablet</td>\n",
              "      <td>1</td>\n",
              "      <td>TAB</td>\n",
              "      <td>1</td>\n",
              "      <td>TAB</td>\n",
              "      <td>PO/NG</td>\n",
              "    </tr>\n",
              "  </tbody>\n",
              "</table>\n",
              "<p>4156450 rows × 19 columns</p>\n",
              "</div>\n",
              "    <div class=\"colab-df-buttons\">\n",
              "\n",
              "  <div class=\"colab-df-container\">\n",
              "    <button class=\"colab-df-convert\" onclick=\"convertToInteractive('df-8be603c4-efbb-4dbd-b811-9adaac8fc4dd')\"\n",
              "            title=\"Convert this dataframe to an interactive table.\"\n",
              "            style=\"display:none;\">\n",
              "\n",
              "  <svg xmlns=\"http://www.w3.org/2000/svg\" height=\"24px\" viewBox=\"0 -960 960 960\">\n",
              "    <path d=\"M120-120v-720h720v720H120Zm60-500h600v-160H180v160Zm220 220h160v-160H400v160Zm0 220h160v-160H400v160ZM180-400h160v-160H180v160Zm440 0h160v-160H620v160ZM180-180h160v-160H180v160Zm440 0h160v-160H620v160Z\"/>\n",
              "  </svg>\n",
              "    </button>\n",
              "\n",
              "  <style>\n",
              "    .colab-df-container {\n",
              "      display:flex;\n",
              "      gap: 12px;\n",
              "    }\n",
              "\n",
              "    .colab-df-convert {\n",
              "      background-color: #E8F0FE;\n",
              "      border: none;\n",
              "      border-radius: 50%;\n",
              "      cursor: pointer;\n",
              "      display: none;\n",
              "      fill: #1967D2;\n",
              "      height: 32px;\n",
              "      padding: 0 0 0 0;\n",
              "      width: 32px;\n",
              "    }\n",
              "\n",
              "    .colab-df-convert:hover {\n",
              "      background-color: #E2EBFA;\n",
              "      box-shadow: 0px 1px 2px rgba(60, 64, 67, 0.3), 0px 1px 3px 1px rgba(60, 64, 67, 0.15);\n",
              "      fill: #174EA6;\n",
              "    }\n",
              "\n",
              "    .colab-df-buttons div {\n",
              "      margin-bottom: 4px;\n",
              "    }\n",
              "\n",
              "    [theme=dark] .colab-df-convert {\n",
              "      background-color: #3B4455;\n",
              "      fill: #D2E3FC;\n",
              "    }\n",
              "\n",
              "    [theme=dark] .colab-df-convert:hover {\n",
              "      background-color: #434B5C;\n",
              "      box-shadow: 0px 1px 3px 1px rgba(0, 0, 0, 0.15);\n",
              "      filter: drop-shadow(0px 1px 2px rgba(0, 0, 0, 0.3));\n",
              "      fill: #FFFFFF;\n",
              "    }\n",
              "  </style>\n",
              "\n",
              "    <script>\n",
              "      const buttonEl =\n",
              "        document.querySelector('#df-8be603c4-efbb-4dbd-b811-9adaac8fc4dd button.colab-df-convert');\n",
              "      buttonEl.style.display =\n",
              "        google.colab.kernel.accessAllowed ? 'block' : 'none';\n",
              "\n",
              "      async function convertToInteractive(key) {\n",
              "        const element = document.querySelector('#df-8be603c4-efbb-4dbd-b811-9adaac8fc4dd');\n",
              "        const dataTable =\n",
              "          await google.colab.kernel.invokeFunction('convertToInteractive',\n",
              "                                                    [key], {});\n",
              "        if (!dataTable) return;\n",
              "\n",
              "        const docLinkHtml = 'Like what you see? Visit the ' +\n",
              "          '<a target=\"_blank\" href=https://colab.research.google.com/notebooks/data_table.ipynb>data table notebook</a>'\n",
              "          + ' to learn more about interactive tables.';\n",
              "        element.innerHTML = '';\n",
              "        dataTable['output_type'] = 'display_data';\n",
              "        await google.colab.output.renderOutput(dataTable, element);\n",
              "        const docLink = document.createElement('div');\n",
              "        docLink.innerHTML = docLinkHtml;\n",
              "        element.appendChild(docLink);\n",
              "      }\n",
              "    </script>\n",
              "  </div>\n",
              "\n",
              "\n",
              "<div id=\"df-27d21fa9-6031-4639-8144-45a4540c52c9\">\n",
              "  <button class=\"colab-df-quickchart\" onclick=\"quickchart('df-27d21fa9-6031-4639-8144-45a4540c52c9')\"\n",
              "            title=\"Suggest charts\"\n",
              "            style=\"display:none;\">\n",
              "\n",
              "<svg xmlns=\"http://www.w3.org/2000/svg\" height=\"24px\"viewBox=\"0 0 24 24\"\n",
              "     width=\"24px\">\n",
              "    <g>\n",
              "        <path d=\"M19 3H5c-1.1 0-2 .9-2 2v14c0 1.1.9 2 2 2h14c1.1 0 2-.9 2-2V5c0-1.1-.9-2-2-2zM9 17H7v-7h2v7zm4 0h-2V7h2v10zm4 0h-2v-4h2v4z\"/>\n",
              "    </g>\n",
              "</svg>\n",
              "  </button>\n",
              "\n",
              "<style>\n",
              "  .colab-df-quickchart {\n",
              "      --bg-color: #E8F0FE;\n",
              "      --fill-color: #1967D2;\n",
              "      --hover-bg-color: #E2EBFA;\n",
              "      --hover-fill-color: #174EA6;\n",
              "      --disabled-fill-color: #AAA;\n",
              "      --disabled-bg-color: #DDD;\n",
              "  }\n",
              "\n",
              "  [theme=dark] .colab-df-quickchart {\n",
              "      --bg-color: #3B4455;\n",
              "      --fill-color: #D2E3FC;\n",
              "      --hover-bg-color: #434B5C;\n",
              "      --hover-fill-color: #FFFFFF;\n",
              "      --disabled-bg-color: #3B4455;\n",
              "      --disabled-fill-color: #666;\n",
              "  }\n",
              "\n",
              "  .colab-df-quickchart {\n",
              "    background-color: var(--bg-color);\n",
              "    border: none;\n",
              "    border-radius: 50%;\n",
              "    cursor: pointer;\n",
              "    display: none;\n",
              "    fill: var(--fill-color);\n",
              "    height: 32px;\n",
              "    padding: 0;\n",
              "    width: 32px;\n",
              "  }\n",
              "\n",
              "  .colab-df-quickchart:hover {\n",
              "    background-color: var(--hover-bg-color);\n",
              "    box-shadow: 0 1px 2px rgba(60, 64, 67, 0.3), 0 1px 3px 1px rgba(60, 64, 67, 0.15);\n",
              "    fill: var(--button-hover-fill-color);\n",
              "  }\n",
              "\n",
              "  .colab-df-quickchart-complete:disabled,\n",
              "  .colab-df-quickchart-complete:disabled:hover {\n",
              "    background-color: var(--disabled-bg-color);\n",
              "    fill: var(--disabled-fill-color);\n",
              "    box-shadow: none;\n",
              "  }\n",
              "\n",
              "  .colab-df-spinner {\n",
              "    border: 2px solid var(--fill-color);\n",
              "    border-color: transparent;\n",
              "    border-bottom-color: var(--fill-color);\n",
              "    animation:\n",
              "      spin 1s steps(1) infinite;\n",
              "  }\n",
              "\n",
              "  @keyframes spin {\n",
              "    0% {\n",
              "      border-color: transparent;\n",
              "      border-bottom-color: var(--fill-color);\n",
              "      border-left-color: var(--fill-color);\n",
              "    }\n",
              "    20% {\n",
              "      border-color: transparent;\n",
              "      border-left-color: var(--fill-color);\n",
              "      border-top-color: var(--fill-color);\n",
              "    }\n",
              "    30% {\n",
              "      border-color: transparent;\n",
              "      border-left-color: var(--fill-color);\n",
              "      border-top-color: var(--fill-color);\n",
              "      border-right-color: var(--fill-color);\n",
              "    }\n",
              "    40% {\n",
              "      border-color: transparent;\n",
              "      border-right-color: var(--fill-color);\n",
              "      border-top-color: var(--fill-color);\n",
              "    }\n",
              "    60% {\n",
              "      border-color: transparent;\n",
              "      border-right-color: var(--fill-color);\n",
              "    }\n",
              "    80% {\n",
              "      border-color: transparent;\n",
              "      border-right-color: var(--fill-color);\n",
              "      border-bottom-color: var(--fill-color);\n",
              "    }\n",
              "    90% {\n",
              "      border-color: transparent;\n",
              "      border-bottom-color: var(--fill-color);\n",
              "    }\n",
              "  }\n",
              "</style>\n",
              "\n",
              "  <script>\n",
              "    async function quickchart(key) {\n",
              "      const quickchartButtonEl =\n",
              "        document.querySelector('#' + key + ' button');\n",
              "      quickchartButtonEl.disabled = true;  // To prevent multiple clicks.\n",
              "      quickchartButtonEl.classList.add('colab-df-spinner');\n",
              "      try {\n",
              "        const charts = await google.colab.kernel.invokeFunction(\n",
              "            'suggestCharts', [key], {});\n",
              "      } catch (error) {\n",
              "        console.error('Error during call to suggestCharts:', error);\n",
              "      }\n",
              "      quickchartButtonEl.classList.remove('colab-df-spinner');\n",
              "      quickchartButtonEl.classList.add('colab-df-quickchart-complete');\n",
              "    }\n",
              "    (() => {\n",
              "      let quickchartButtonEl =\n",
              "        document.querySelector('#df-27d21fa9-6031-4639-8144-45a4540c52c9 button');\n",
              "      quickchartButtonEl.style.display =\n",
              "        google.colab.kernel.accessAllowed ? 'block' : 'none';\n",
              "    })();\n",
              "  </script>\n",
              "</div>\n",
              "\n",
              "  <div id=\"id_e35b7ca7-5d5d-408e-88d4-de124aa426fd\">\n",
              "    <style>\n",
              "      .colab-df-generate {\n",
              "        background-color: #E8F0FE;\n",
              "        border: none;\n",
              "        border-radius: 50%;\n",
              "        cursor: pointer;\n",
              "        display: none;\n",
              "        fill: #1967D2;\n",
              "        height: 32px;\n",
              "        padding: 0 0 0 0;\n",
              "        width: 32px;\n",
              "      }\n",
              "\n",
              "      .colab-df-generate:hover {\n",
              "        background-color: #E2EBFA;\n",
              "        box-shadow: 0px 1px 2px rgba(60, 64, 67, 0.3), 0px 1px 3px 1px rgba(60, 64, 67, 0.15);\n",
              "        fill: #174EA6;\n",
              "      }\n",
              "\n",
              "      [theme=dark] .colab-df-generate {\n",
              "        background-color: #3B4455;\n",
              "        fill: #D2E3FC;\n",
              "      }\n",
              "\n",
              "      [theme=dark] .colab-df-generate:hover {\n",
              "        background-color: #434B5C;\n",
              "        box-shadow: 0px 1px 3px 1px rgba(0, 0, 0, 0.15);\n",
              "        filter: drop-shadow(0px 1px 2px rgba(0, 0, 0, 0.3));\n",
              "        fill: #FFFFFF;\n",
              "      }\n",
              "    </style>\n",
              "    <button class=\"colab-df-generate\" onclick=\"generateWithVariable('df')\"\n",
              "            title=\"Generate code using this dataframe.\"\n",
              "            style=\"display:none;\">\n",
              "\n",
              "  <svg xmlns=\"http://www.w3.org/2000/svg\" height=\"24px\"viewBox=\"0 0 24 24\"\n",
              "       width=\"24px\">\n",
              "    <path d=\"M7,19H8.4L18.45,9,17,7.55,7,17.6ZM5,21V16.75L18.45,3.32a2,2,0,0,1,2.83,0l1.4,1.43a1.91,1.91,0,0,1,.58,1.4,1.91,1.91,0,0,1-.58,1.4L9.25,21ZM18.45,9,17,7.55Zm-12,3A5.31,5.31,0,0,0,4.9,8.1,5.31,5.31,0,0,0,1,6.5,5.31,5.31,0,0,0,4.9,4.9,5.31,5.31,0,0,0,6.5,1,5.31,5.31,0,0,0,8.1,4.9,5.31,5.31,0,0,0,12,6.5,5.46,5.46,0,0,0,6.5,12Z\"/>\n",
              "  </svg>\n",
              "    </button>\n",
              "    <script>\n",
              "      (() => {\n",
              "      const buttonEl =\n",
              "        document.querySelector('#id_e35b7ca7-5d5d-408e-88d4-de124aa426fd button.colab-df-generate');\n",
              "      buttonEl.style.display =\n",
              "        google.colab.kernel.accessAllowed ? 'block' : 'none';\n",
              "\n",
              "      buttonEl.onclick = () => {\n",
              "        google.colab.notebook.generateWithVariable('df');\n",
              "      }\n",
              "      })();\n",
              "    </script>\n",
              "  </div>\n",
              "\n",
              "    </div>\n",
              "  </div>\n"
            ],
            "application/vnd.google.colaboratory.intrinsic+json": {
              "type": "dataframe",
              "variable_name": "df"
            }
          },
          "metadata": {},
          "execution_count": 4
        }
      ]
    },
    {
      "cell_type": "code",
      "source": [
        "df.info()"
      ],
      "metadata": {
        "colab": {
          "base_uri": "https://localhost:8080/"
        },
        "id": "l09HGboHLlqw",
        "outputId": "6444e665-3d40-4088-fb30-9eaa3afd9389"
      },
      "execution_count": null,
      "outputs": [
        {
          "output_type": "stream",
          "name": "stdout",
          "text": [
            "<class 'pandas.core.frame.DataFrame'>\n",
            "RangeIndex: 4156450 entries, 0 to 4156449\n",
            "Data columns (total 19 columns):\n",
            " #   Column             Dtype  \n",
            "---  ------             -----  \n",
            " 0   ROW_ID             int64  \n",
            " 1   SUBJECT_ID         int64  \n",
            " 2   HADM_ID            int64  \n",
            " 3   ICUSTAY_ID         float64\n",
            " 4   STARTDATE          object \n",
            " 5   ENDDATE            object \n",
            " 6   DRUG_TYPE          object \n",
            " 7   DRUG               object \n",
            " 8   DRUG_NAME_POE      object \n",
            " 9   DRUG_NAME_GENERIC  object \n",
            " 10  FORMULARY_DRUG_CD  object \n",
            " 11  GSN                object \n",
            " 12  NDC                float64\n",
            " 13  PROD_STRENGTH      object \n",
            " 14  DOSE_VAL_RX        object \n",
            " 15  DOSE_UNIT_RX       object \n",
            " 16  FORM_VAL_DISP      object \n",
            " 17  FORM_UNIT_DISP     object \n",
            " 18  ROUTE              object \n",
            "dtypes: float64(2), int64(3), object(14)\n",
            "memory usage: 602.5+ MB\n"
          ]
        }
      ]
    },
    {
      "cell_type": "code",
      "source": [
        "df.isnull().sum()"
      ],
      "metadata": {
        "colab": {
          "base_uri": "https://localhost:8080/",
          "height": 679
        },
        "id": "xU2RK8TSLnxp",
        "outputId": "760af53c-7c09-4544-8e50-07c2ca12fc1c"
      },
      "execution_count": null,
      "outputs": [
        {
          "output_type": "execute_result",
          "data": {
            "text/plain": [
              "ROW_ID                     0\n",
              "SUBJECT_ID                 0\n",
              "HADM_ID                    0\n",
              "ICUSTAY_ID           1447708\n",
              "STARTDATE               3182\n",
              "ENDDATE                 5421\n",
              "DRUG_TYPE                  0\n",
              "DRUG                       0\n",
              "DRUG_NAME_POE        1664234\n",
              "DRUG_NAME_GENERIC    1662989\n",
              "FORMULARY_DRUG_CD       1933\n",
              "GSN                   507164\n",
              "NDC                     4463\n",
              "PROD_STRENGTH           1362\n",
              "DOSE_VAL_RX             1350\n",
              "DOSE_UNIT_RX            1342\n",
              "FORM_VAL_DISP           1355\n",
              "FORM_UNIT_DISP          1409\n",
              "ROUTE                   1156\n",
              "dtype: int64"
            ],
            "text/html": [
              "<div>\n",
              "<style scoped>\n",
              "    .dataframe tbody tr th:only-of-type {\n",
              "        vertical-align: middle;\n",
              "    }\n",
              "\n",
              "    .dataframe tbody tr th {\n",
              "        vertical-align: top;\n",
              "    }\n",
              "\n",
              "    .dataframe thead th {\n",
              "        text-align: right;\n",
              "    }\n",
              "</style>\n",
              "<table border=\"1\" class=\"dataframe\">\n",
              "  <thead>\n",
              "    <tr style=\"text-align: right;\">\n",
              "      <th></th>\n",
              "      <th>0</th>\n",
              "    </tr>\n",
              "  </thead>\n",
              "  <tbody>\n",
              "    <tr>\n",
              "      <th>ROW_ID</th>\n",
              "      <td>0</td>\n",
              "    </tr>\n",
              "    <tr>\n",
              "      <th>SUBJECT_ID</th>\n",
              "      <td>0</td>\n",
              "    </tr>\n",
              "    <tr>\n",
              "      <th>HADM_ID</th>\n",
              "      <td>0</td>\n",
              "    </tr>\n",
              "    <tr>\n",
              "      <th>ICUSTAY_ID</th>\n",
              "      <td>1447708</td>\n",
              "    </tr>\n",
              "    <tr>\n",
              "      <th>STARTDATE</th>\n",
              "      <td>3182</td>\n",
              "    </tr>\n",
              "    <tr>\n",
              "      <th>ENDDATE</th>\n",
              "      <td>5421</td>\n",
              "    </tr>\n",
              "    <tr>\n",
              "      <th>DRUG_TYPE</th>\n",
              "      <td>0</td>\n",
              "    </tr>\n",
              "    <tr>\n",
              "      <th>DRUG</th>\n",
              "      <td>0</td>\n",
              "    </tr>\n",
              "    <tr>\n",
              "      <th>DRUG_NAME_POE</th>\n",
              "      <td>1664234</td>\n",
              "    </tr>\n",
              "    <tr>\n",
              "      <th>DRUG_NAME_GENERIC</th>\n",
              "      <td>1662989</td>\n",
              "    </tr>\n",
              "    <tr>\n",
              "      <th>FORMULARY_DRUG_CD</th>\n",
              "      <td>1933</td>\n",
              "    </tr>\n",
              "    <tr>\n",
              "      <th>GSN</th>\n",
              "      <td>507164</td>\n",
              "    </tr>\n",
              "    <tr>\n",
              "      <th>NDC</th>\n",
              "      <td>4463</td>\n",
              "    </tr>\n",
              "    <tr>\n",
              "      <th>PROD_STRENGTH</th>\n",
              "      <td>1362</td>\n",
              "    </tr>\n",
              "    <tr>\n",
              "      <th>DOSE_VAL_RX</th>\n",
              "      <td>1350</td>\n",
              "    </tr>\n",
              "    <tr>\n",
              "      <th>DOSE_UNIT_RX</th>\n",
              "      <td>1342</td>\n",
              "    </tr>\n",
              "    <tr>\n",
              "      <th>FORM_VAL_DISP</th>\n",
              "      <td>1355</td>\n",
              "    </tr>\n",
              "    <tr>\n",
              "      <th>FORM_UNIT_DISP</th>\n",
              "      <td>1409</td>\n",
              "    </tr>\n",
              "    <tr>\n",
              "      <th>ROUTE</th>\n",
              "      <td>1156</td>\n",
              "    </tr>\n",
              "  </tbody>\n",
              "</table>\n",
              "</div><br><label><b>dtype:</b> int64</label>"
            ]
          },
          "metadata": {},
          "execution_count": 6
        }
      ]
    },
    {
      "cell_type": "markdown",
      "source": [
        "# **Generate Normally Distributed Data**"
      ],
      "metadata": {
        "id": "YhFa0XX8Mbzw"
      }
    },
    {
      "cell_type": "code",
      "source": [
        "import numpy as np\n",
        "\n",
        "data = np.random.normal(loc=100, scale=15, size=1000)\n"
      ],
      "metadata": {
        "id": "l7P98IniMZd0"
      },
      "execution_count": null,
      "outputs": []
    },
    {
      "cell_type": "code",
      "source": [
        "import matplotlib.pyplot as plt\n",
        "import numpy as np\n",
        "from scipy.stats import norm\n",
        "\n",
        "plt.hist(data, bins=30, density=True, alpha=0.6, color='g')\n",
        "\n",
        "xmin, xmax = plt.xlim()\n",
        "x = np.linspace(xmin, xmax, 100)\n",
        "p = norm.pdf(x, loc=np.mean(data), scale=np.std(data))\n",
        "plt.plot(x, p, 'k', linewidth=2)\n",
        "title = \"Fit results: mu = %.2f,  std = %.2f\" % (np.mean(data), np.std(data))\n",
        "plt.title(title)\n",
        "\n",
        "plt.show()"
      ],
      "metadata": {
        "colab": {
          "base_uri": "https://localhost:8080/",
          "height": 452
        },
        "id": "AZSP7MwGNlvv",
        "outputId": "28f38ef3-009e-42a7-cee1-c82491163eb8"
      },
      "execution_count": null,
      "outputs": [
        {
          "output_type": "display_data",
          "data": {
            "text/plain": [
              "<Figure size 640x480 with 1 Axes>"
            ],
            "image/png": "[encoded data removed]"
          },
          "metadata": {}
        }
      ]
    },
    {
      "cell_type": "code",
      "source": [
        "hadm_id_values = df['HADM_ID']\n",
        "\n",
        "mean_hadm_id = np.mean(hadm_id_values)\n",
        "std_hadm_id = np.std(hadm_id_values)\n",
        "from scipy.stats import skew, kurtosis\n",
        "skew_hadm_id = skew(hadm_id_values)\n",
        "kurt_hadm_id = kurtosis(hadm_id_values)\n",
        "\n",
        "print(\"Summary statistics for HADM_ID:\")\n",
        "print(f\"Mean: {mean_hadm_id}\")\n",
        "print(f\"Standard Deviation: {std_hadm_id}\")\n",
        "print(f\"Skewness: {skew_hadm_id}\")\n",
        "print(f\"Kurtosis: {kurt_hadm_id}\")\n"
      ],
      "metadata": {
        "colab": {
          "base_uri": "https://localhost:8080/"
        },
        "id": "5wInMS-OQElp",
        "outputId": "47f527d9-f909-4dce-d14a-e111c24a3246"
      },
      "execution_count": null,
      "outputs": [
        {
          "output_type": "stream",
          "name": "stdout",
          "text": [
            "Summary statistics for HADM_ID:\n",
            "Mean: 150100.0382379194\n",
            "Standard Deviation: 28917.537968383094\n",
            "Skewness: -0.007989112280490037\n",
            "Kurtosis: -1.2041097110838068\n"
          ]
        }
      ]
    },
    {
      "cell_type": "code",
      "source": [
        "plt.figure(figsize=(10, 6))\n",
        "sns.histplot(hadm_id_values, kde=True, stat='density', color='skyblue')\n",
        "plt.title('Histogram and KDE of HADM_ID')\n",
        "plt.xlabel('HADM_ID')\n",
        "plt.ylabel('Density')\n",
        "plt.show()"
      ],
      "metadata": {
        "colab": {
          "base_uri": "https://localhost:8080/",
          "height": 564
        },
        "id": "nthrbX16QbeP",
        "outputId": "9a2dc8ef-ebeb-4243-ab32-bf98b90d2311"
      },
      "execution_count": null,
      "outputs": [
        {
          "output_type": "display_data",
          "data": {
            "text/plain": [
              "<Figure size 1000x600 with 1 Axes>"
            ],
            "image/png": "[encoded data removed]"
          },
          "metadata": {}
        }
      ]
    },
    {
      "cell_type": "code",
      "source": [
        "import statsmodels.api as sm\n",
        "fig = sm.qqplot(hadm_id_values, line='45')\n",
        "plt.title('Q-Q Plot for HADM_ID')\n",
        "plt.show()\n"
      ],
      "metadata": {
        "colab": {
          "base_uri": "https://localhost:8080/",
          "height": 472
        },
        "id": "H6VwCGJkQi-o",
        "outputId": "770fce20-6131-4af4-b1b8-86d61184ac99"
      },
      "execution_count": null,
      "outputs": [
        {
          "output_type": "display_data",
          "data": {
            "text/plain": [
              "<Figure size 640x480 with 1 Axes>"
            ],
            "image/png": "[encoded data removed]"
          },
          "metadata": {}
        }
      ]
    },
    {
      "cell_type": "code",
      "source": [
        "from scipy.stats import shapiro, kstest\n",
        "\n",
        "shapiro_test = shapiro(hadm_id_values)\n",
        "print(\"Shapiro-Wilk Test:\")\n",
        "print(f\"Statistic: {shapiro_test.statistic}\")\n",
        "print(f\"P-value: {shapiro_test.pvalue}\")\n",
        "ks_test = kstest(hadm_id_values, 'norm', args=(mean_hadm_id, std_hadm_id))\n",
        "print(\"\\nKolmogorov-Smirnov Test:\")\n",
        "print(f\"Statistic: {ks_test.statistic}\")\n",
        "print(f\"P-value: {ks_test.pvalue}\")\n"
      ],
      "metadata": {
        "colab": {
          "base_uri": "https://localhost:8080/"
        },
        "id": "WbhlzV_URBFO",
        "outputId": "093fc154-feca-44c6-af10-10b6c85b47a9"
      },
      "execution_count": null,
      "outputs": [
        {
          "output_type": "stream",
          "name": "stderr",
          "text": [
            "/usr/local/lib/python3.11/dist-packages/scipy/stats/_axis_nan_policy.py:531: UserWarning: scipy.stats.shapiro: For N > 5000, computed p-value may not be accurate. Current N is 4156450.\n",
            "  res = hypotest_fun_out(*samples, **kwds)\n"
          ]
        },
        {
          "output_type": "stream",
          "name": "stdout",
          "text": [
            "Shapiro-Wilk Test:\n",
            "Statistic: 0.954530110453502\n",
            "P-value: 1.5274486838271927e-139\n",
            "\n",
            "Kolmogorov-Smirnov Test:\n",
            "Statistic: 0.05926125820099626\n",
            "P-value: 0.0\n"
          ]
        }
      ]
    },
    {
      "cell_type": "code",
      "source": [
        "from scipy.stats import norm\n",
        "\n",
        "threshold = 80\n",
        "probability = norm.cdf(threshold, loc=mean_hadm_id, scale=std_hadm_id)\n",
        "print(f\"The probability of HADM_ID being less than {threshold} is: {probability}\")"
      ],
      "metadata": {
        "colab": {
          "base_uri": "https://localhost:8080/"
        },
        "id": "7ht0R8IcRLtW",
        "outputId": "947b64b8-e83e-4bc4-e660-0a25bcc2157d"
      },
      "execution_count": null,
      "outputs": [
        {
          "output_type": "stream",
          "name": "stdout",
          "text": [
            "The probability of HADM_ID being less than 80 is: 1.0636419242411503e-07\n"
          ]
        }
      ]
    },
    {
      "cell_type": "code",
      "source": [
        "percentile_90 = norm.ppf(0.90, loc=mean_hadm_id, scale=std_hadm_id)\n",
        "\n",
        "print(f\"The 90th percentile of HADM_ID is: {percentile_90}\")\n",
        "\n",
        "print(\"\\nClinical Interpretation:\")\n",
        "print(f\"90% of the HADM_ID values in this dataset are expected to be below {percentile_90}.\")\n",
        "print(\"This could be used to identify patients with unusually high HADM_ID values, which might indicate a specific clinical characteristic or outcome.\")\n",
        "print(\"Further analysis, considering the clinical meaning of HADM_ID and other patient data, would be necessary to draw definitive conclusions.\")\n"
      ],
      "metadata": {
        "colab": {
          "base_uri": "https://localhost:8080/"
        },
        "id": "YxuZxQKiRv_R",
        "outputId": "7f755e6e-258d-4e78-f551-91e239e39004"
      },
      "execution_count": null,
      "outputs": [
        {
          "output_type": "stream",
          "name": "stdout",
          "text": [
            "The 90th percentile of HADM_ID is: 187159.35429299617\n",
            "\n",
            "Clinical Interpretation:\n",
            "90% of the HADM_ID values in this dataset are expected to be below 187159.35429299617.\n",
            "This could be used to identify patients with unusually high HADM_ID values, which might indicate a specific clinical characteristic or outcome.\n",
            "Further analysis, considering the clinical meaning of HADM_ID and other patient data, would be necessary to draw definitive conclusions.\n"
          ]
        }
      ]
    },
    {
      "cell_type": "code",
      "source": [
        "heart_rate = 100\n",
        "mean_hr = 70\n",
        "std_hr = 10\n",
        "\n",
        "density = norm.pdf(heart_rate, loc=mean_hr, scale=std_hr)\n",
        "\n",
        "print(f\"The probability density at a heart rate of {heart_rate} bpm is: {density}\")\n",
        "\n",
        "print(\"\\nInterpretation:\")\n",
        "print(f\"The computed density, {density}, represents the relative likelihood of observing a heart rate of {heart_rate} bpm, given that heart rates are assumed to follow a normal distribution with a mean of {mean_hr} and a standard deviation of {std_hr}.  A higher density indicates a greater likelihood of observing that heart rate value within the assumed normal distribution.\")\n",
        "print(\"It is important to note that this is a relative likelihood. The density itself is not a probability, but rather a measure of the height of the probability density function at a specific point.  To obtain a probability, you would need to integrate the PDF over a specific range.\")\n",
        "\n"
      ],
      "metadata": {
        "colab": {
          "base_uri": "https://localhost:8080/"
        },
        "id": "jQKOJeykR7Sn",
        "outputId": "9ed3cd1c-4727-4049-e0f1-0a7ae0df7723"
      },
      "execution_count": null,
      "outputs": [
        {
          "output_type": "stream",
          "name": "stdout",
          "text": [
            "The probability density at a heart rate of 100 bpm is: 0.00044318484119380076\n",
            "\n",
            "Interpretation:\n",
            "The computed density, 0.00044318484119380076, represents the relative likelihood of observing a heart rate of 100 bpm, given that heart rates are assumed to follow a normal distribution with a mean of 70 and a standard deviation of 10.  A higher density indicates a greater likelihood of observing that heart rate value within the assumed normal distribution.\n",
            "It is important to note that this is a relative likelihood. The density itself is not a probability, but rather a measure of the height of the probability density function at a specific point.  To obtain a probability, you would need to integrate the PDF over a specific range.\n"
          ]
        }
      ]
    },
    {
      "cell_type": "code",
      "source": [
        "generated_data = np.random.normal(loc=np.mean(hadm_id_values), scale=np.std(hadm_id_values), size=1000)\n",
        "\n",
        "plt.figure(figsize=(10, 6))\n",
        "plt.hist(generated_data, bins=30, density=True, alpha=0.6, color='g', label='Generated Data')\n",
        "\n",
        "sns.kdeplot(hadm_id_values, color='skyblue', label='Original Data (HADM_ID)')\n",
        "\n",
        "plt.title('Comparison of Generated and Original Data Distributions')\n",
        "plt.xlabel('Value')\n",
        "plt.ylabel('Density')\n",
        "plt.legend()\n",
        "plt.show()\n"
      ],
      "metadata": {
        "colab": {
          "base_uri": "https://localhost:8080/",
          "height": 564
        },
        "id": "y0yxfXpSSNut",
        "outputId": "71a9883f-32ab-431d-db6f-072d86386034"
      },
      "execution_count": null,
      "outputs": [
        {
          "output_type": "display_data",
          "data": {
            "text/plain": [
              "<Figure size 1000x600 with 1 Axes>"
            ],
            "image/png": "[encoded data removed]"
          },
          "metadata": {}
        }
      ]
    },
    {
      "cell_type": "code",
      "source": [
        "import pandas as pd\n",
        "import numpy as np\n",
        "from scipy.stats import norm\n",
        "\n",
        "data = np.random.normal(loc=120, scale=15, size=1000)\n",
        "\n",
        "confidence_level = 0.95\n",
        "mean = np.mean(data)\n",
        "std_err = np.std(data) / np.sqrt(len(data))\n",
        "z_critical = norm.ppf((1 + confidence_level) / 2)\n",
        "lower_bound = mean - z_critical * std_err\n",
        "upper_bound = mean + z_critical * std_err\n",
        "print(f\"95% Confidence Interval for mean Systolic BP: ({lower_bound:.2f}, {upper_bound:.2f})\")\n",
        "\n",
        "# Step 2: Interpret the confidence interval\n",
        "print(\"\\nInterpretation:\")\n",
        "print(\"We are 95% confident that the true mean systolic blood pressure for the population of ICU patients falls within this range.  This does not mean that 95% of individual patients' systolic blood pressure values will fall in this range.  For example, if the CI is (110, 130 mmHg), it suggests that the average systolic BP for the patient population lies between these two values.\")\n",
        "\n",
        "# Step 3: Probability of systolic blood pressure > 150 mmHg\n",
        "patient_sbp = 150\n",
        "probability_above_150 = 1 - norm.cdf(patient_sbp, loc=mean, scale=std_err)\n",
        "print(f\"\\nProbability of systolic blood pressure > {patient_sbp} mmHg: {probability_above_150:.4f}\")\n",
        "\n",
        "print(\"\\nRisk Assessment and Medical Actions:\")\n",
        "print(\"Patients with values outside the 95% CI should be considered high-risk, but not automatically flagged. This is because the CI quantifies sampling uncertainty, not necessarily individual patient abnormalities.\")\n",
        "print(\"Further steps include:\")\n",
        "print(\"- Consider the patient's overall clinical picture.\")\n",
        "print(\"- Check for other vital signs and lab results.\")\n",
        "print(\"- Consult with the medical team for additional diagnostics.\")\n",
        "print(\"- Adjust medication (if needed) based on the clinical status of the patient.\")\n",
        "print(\"- The probability calculation (Step 3) can provide additional context. A high probability of exceeding a threshold might warrant more immediate attention.\")\n",
        "print(\"It is crucial to avoid purely automated decision making based solely on these calculations. Clinical expertise should always guide the final decisions.\")\n"
      ],
      "metadata": {
        "colab": {
          "base_uri": "https://localhost:8080/"
        },
        "id": "QafOFtIvShre",
        "outputId": "1b26cab9-c99b-4bc8-d18a-cc94e580fbf8"
      },
      "execution_count": null,
      "outputs": [
        {
          "output_type": "stream",
          "name": "stdout",
          "text": [
            "95% Confidence Interval for mean Systolic BP: (119.36, 121.20)\n",
            "\n",
            "Interpretation:\n",
            "We are 95% confident that the true mean systolic blood pressure for the population of ICU patients falls within this range.  This does not mean that 95% of individual patients' systolic blood pressure values will fall in this range.  For example, if the CI is (110, 130 mmHg), it suggests that the average systolic BP for the patient population lies between these two values.\n",
            "\n",
            "Probability of systolic blood pressure > 150 mmHg: 0.0000\n",
            "\n",
            "Risk Assessment and Medical Actions:\n",
            "Patients with values outside the 95% CI should be considered high-risk, but not automatically flagged. This is because the CI quantifies sampling uncertainty, not necessarily individual patient abnormalities.\n",
            "Further steps include:\n",
            "- Consider the patient's overall clinical picture.\n",
            "- Check for other vital signs and lab results.\n",
            "- Consult with the medical team for additional diagnostics.\n",
            "- Adjust medication (if needed) based on the clinical status of the patient.\n",
            "- The probability calculation (Step 3) can provide additional context. A high probability of exceeding a threshold might warrant more immediate attention.\n",
            "It is crucial to avoid purely automated decision making based solely on these calculations. Clinical expertise should always guide the final decisions.\n"
          ]
        }
      ]
    }
  ]
}